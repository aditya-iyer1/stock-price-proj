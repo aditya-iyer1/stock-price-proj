{
 "cells": [
  {
   "cell_type": "markdown",
   "id": "991ce30a-f67e-4fa7-abe4-aa05d553f65b",
   "metadata": {},
   "source": [
    "Cryptocurrency Market Data"
   ]
  },
  {
   "cell_type": "code",
   "execution_count": 7,
   "id": "f68dee85-4d1d-4921-8360-f13cbc29271f",
   "metadata": {},
   "outputs": [
    {
     "name": "stdout",
     "output_type": "stream",
     "text": [
      "Path to dataset files: /Users/aditya/.cache/kagglehub/datasets/vedaantsingh/comprehensive-cryptocurrency-market-data/versions/1\n"
     ]
    }
   ],
   "source": [
    "import kagglehub\n",
    "\n",
    "# Download latest version\n",
    "path = kagglehub.dataset_download(\"vedaantsingh/comprehensive-cryptocurrency-market-data\")\n",
    "\n",
    "print(\"Path to dataset files:\", path)"
   ]
  },
  {
   "cell_type": "code",
   "execution_count": 41,
   "id": "25648ff5-0749-424f-9094-98ccb183f421",
   "metadata": {},
   "outputs": [
    {
     "name": "stdout",
     "output_type": "stream",
     "text": [
      "DataFrame loaded successfully:\n",
      "          Name Symbol         Price      1h %     24h %       7d %  \\\n",
      "0      Bitcoin    BTC  96183.612709 -0.582452 -1.406937  -6.098029   \n",
      "1     Ethereum    ETH   3313.788191 -0.906492 -4.726532 -14.958048   \n",
      "2  Tether USDt   USDT      0.999253 -0.020326 -0.027455  -0.035466   \n",
      "3          XRP    XRP      2.188454 -2.185932 -5.350521 -10.121365   \n",
      "4          BNB    BNB    651.685277 -1.337123 -5.012758  -8.951213   \n",
      "\n",
      "        60d %       90d %  YTD %    Market Cap  Volume (24h)  \\\n",
      "0   43.357862   50.760758    NaN  1.904383e+12  5.128441e+10   \n",
      "1   26.799836   24.709903    NaN  3.991634e+11  3.126633e+10   \n",
      "2   -0.002103   -0.076709    NaN  1.397684e+11  1.421387e+11   \n",
      "3  312.945320  270.081243    NaN  1.252942e+11  1.424509e+10   \n",
      "4   10.758367    9.719003    NaN  9.384770e+10  2.075789e+09   \n",
      "\n",
      "   Volume Change (24h)  Volume Change (30d)  Circulating Supply  Total Supply  \\\n",
      "0             -46.4837                  NaN        1.979945e+07  1.979945e+07   \n",
      "1             -48.6213                  NaN        1.204553e+08  1.204553e+08   \n",
      "2             -41.9306                  NaN        1.398728e+11  1.434401e+11   \n",
      "3             -45.1770                  NaN        5.725238e+10  9.998681e+10   \n",
      "4             -31.4686                  NaN        1.440077e+08  1.440077e+08   \n",
      "\n",
      "     Max Supply  Num Market Pairs  \n",
      "0  2.100000e+07             11849  \n",
      "1           NaN              9712  \n",
      "2           NaN            109588  \n",
      "3  1.000000e+11              1485  \n",
      "4           NaN              2315  \n"
     ]
    }
   ],
   "source": [
    "import pandas as pd\n",
    "import os\n",
    "\n",
    "# Path to the dataset directory\n",
    "dataset_path = \"/Users/aditya/.cache/kagglehub/datasets/vedaantsingh/comprehensive-cryptocurrency-market-data/versions/1\"\n",
    "\n",
    "# Specify the file you want to load (replace 'example.csv' with the actual file name)\n",
    "file_name = \"crypto_trends_insights_2024.csv\"  # Change this to an actual file name in the directory\n",
    "file_path = os.path.join(dataset_path, file_name)\n",
    "\n",
    "# Load the CSV into a DataFrame\n",
    "df = pd.read_csv(file_path)\n",
    "print(\"DataFrame loaded successfully:\")\n",
    "print(df.head())"
   ]
  },
  {
   "cell_type": "markdown",
   "id": "30744de8-7905-4756-a054-2db6bb5a79aa",
   "metadata": {},
   "source": [
    "# EDA"
   ]
  },
  {
   "cell_type": "code",
   "execution_count": 42,
   "id": "0405bf42-783c-418e-81ec-b395913a0a73",
   "metadata": {},
   "outputs": [
    {
     "name": "stdout",
     "output_type": "stream",
     "text": [
      "Count Unique: 10227, Total Count: 10422\n"
     ]
    }
   ],
   "source": [
    "print(f\"Count Unique: {df['Name'].nunique()}, Total Count: {df['Name'].count()}\")\n"
   ]
  },
  {
   "cell_type": "code",
   "execution_count": 43,
   "id": "bbbeb4e7-c844-40c9-a4d1-dc1eee37b43d",
   "metadata": {},
   "outputs": [],
   "source": [
    "df['Name'] = df['Name'].str.strip()"
   ]
  },
  {
   "cell_type": "code",
   "execution_count": 45,
   "id": "dc4a1c3e-9960-4bbd-997c-5d6fef106ce6",
   "metadata": {},
   "outputs": [
    {
     "data": {
      "text/html": [
       "<div>\n",
       "<style scoped>\n",
       "    .dataframe tbody tr th:only-of-type {\n",
       "        vertical-align: middle;\n",
       "    }\n",
       "\n",
       "    .dataframe tbody tr th {\n",
       "        vertical-align: top;\n",
       "    }\n",
       "\n",
       "    .dataframe thead th {\n",
       "        text-align: right;\n",
       "    }\n",
       "</style>\n",
       "<table border=\"1\" class=\"dataframe\">\n",
       "  <thead>\n",
       "    <tr style=\"text-align: right;\">\n",
       "      <th></th>\n",
       "      <th>Name</th>\n",
       "      <th>Symbol</th>\n",
       "      <th>Price</th>\n",
       "      <th>1h %</th>\n",
       "      <th>24h %</th>\n",
       "      <th>7d %</th>\n",
       "      <th>60d %</th>\n",
       "      <th>90d %</th>\n",
       "      <th>YTD %</th>\n",
       "      <th>Market Cap</th>\n",
       "      <th>Volume (24h)</th>\n",
       "      <th>Volume Change (24h)</th>\n",
       "      <th>Volume Change (30d)</th>\n",
       "      <th>Circulating Supply</th>\n",
       "      <th>Total Supply</th>\n",
       "      <th>Max Supply</th>\n",
       "      <th>Num Market Pairs</th>\n",
       "    </tr>\n",
       "  </thead>\n",
       "  <tbody>\n",
       "    <tr>\n",
       "      <th>587</th>\n",
       "      <td>Bifrost</td>\n",
       "      <td>BFC</td>\n",
       "      <td>0.043892</td>\n",
       "      <td>-0.640099</td>\n",
       "      <td>-0.570697</td>\n",
       "      <td>-16.146477</td>\n",
       "      <td>4.451136</td>\n",
       "      <td>11.257950</td>\n",
       "      <td>NaN</td>\n",
       "      <td>6.086291e+07</td>\n",
       "      <td>5.591365e+06</td>\n",
       "      <td>-33.9226</td>\n",
       "      <td>NaN</td>\n",
       "      <td>1.386639e+09</td>\n",
       "      <td>2.584913e+09</td>\n",
       "      <td>NaN</td>\n",
       "      <td>21</td>\n",
       "    </tr>\n",
       "    <tr>\n",
       "      <th>1175</th>\n",
       "      <td>Bifrost</td>\n",
       "      <td>BNC</td>\n",
       "      <td>0.230009</td>\n",
       "      <td>-0.167734</td>\n",
       "      <td>-8.192001</td>\n",
       "      <td>-16.680577</td>\n",
       "      <td>17.820048</td>\n",
       "      <td>9.768082</td>\n",
       "      <td>NaN</td>\n",
       "      <td>1.037580e+07</td>\n",
       "      <td>6.982906e+05</td>\n",
       "      <td>6.6990</td>\n",
       "      <td>NaN</td>\n",
       "      <td>4.511035e+07</td>\n",
       "      <td>8.000000e+07</td>\n",
       "      <td>80000000.0</td>\n",
       "      <td>11</td>\n",
       "    </tr>\n",
       "  </tbody>\n",
       "</table>\n",
       "</div>"
      ],
      "text/plain": [
       "         Name Symbol     Price      1h %     24h %       7d %      60d %  \\\n",
       "587   Bifrost    BFC  0.043892 -0.640099 -0.570697 -16.146477   4.451136   \n",
       "1175  Bifrost    BNC  0.230009 -0.167734 -8.192001 -16.680577  17.820048   \n",
       "\n",
       "          90d %  YTD %    Market Cap  Volume (24h)  Volume Change (24h)  \\\n",
       "587   11.257950    NaN  6.086291e+07  5.591365e+06             -33.9226   \n",
       "1175   9.768082    NaN  1.037580e+07  6.982906e+05               6.6990   \n",
       "\n",
       "      Volume Change (30d)  Circulating Supply  Total Supply  Max Supply  \\\n",
       "587                   NaN        1.386639e+09  2.584913e+09         NaN   \n",
       "1175                  NaN        4.511035e+07  8.000000e+07  80000000.0   \n",
       "\n",
       "      Num Market Pairs  \n",
       "587                 21  \n",
       "1175                11  "
      ]
     },
     "execution_count": 45,
     "metadata": {},
     "output_type": "execute_result"
    }
   ],
   "source": [
    "df[df['Name'] == 'Bifrost']"
   ]
  },
  {
   "cell_type": "code",
   "execution_count": null,
   "id": "7c986fe7-0d9a-47fe-8fc9-9e19134472e6",
   "metadata": {},
   "outputs": [],
   "source": []
  },
  {
   "cell_type": "code",
   "execution_count": null,
   "id": "20c66f72-fe1e-4d48-b037-2e1f9543b3de",
   "metadata": {},
   "outputs": [],
   "source": []
  },
  {
   "cell_type": "code",
   "execution_count": null,
   "id": "dbe5ecc8-3d6b-47fa-a8fe-cdad5998d4d1",
   "metadata": {},
   "outputs": [],
   "source": []
  },
  {
   "cell_type": "code",
   "execution_count": null,
   "id": "9116e93c-b60f-46bd-bc1d-7f5ca9c0e795",
   "metadata": {},
   "outputs": [],
   "source": []
  },
  {
   "cell_type": "code",
   "execution_count": null,
   "id": "1d8cef49-00fa-44ec-8585-4455d8c944c7",
   "metadata": {},
   "outputs": [],
   "source": []
  },
  {
   "cell_type": "code",
   "execution_count": null,
   "id": "77813824-fa9c-46c4-962d-419c579b5cb5",
   "metadata": {},
   "outputs": [],
   "source": []
  },
  {
   "cell_type": "code",
   "execution_count": null,
   "id": "d66365cf-a9dc-4e85-a31f-2e9693c7726e",
   "metadata": {},
   "outputs": [],
   "source": []
  }
 ],
 "metadata": {
  "kernelspec": {
   "display_name": "Python 3 (ipykernel)",
   "language": "python",
   "name": "python3"
  },
  "language_info": {
   "codemirror_mode": {
    "name": "ipython",
    "version": 3
   },
   "file_extension": ".py",
   "mimetype": "text/x-python",
   "name": "python",
   "nbconvert_exporter": "python",
   "pygments_lexer": "ipython3",
   "version": "3.13.1"
  }
 },
 "nbformat": 4,
 "nbformat_minor": 5
}
